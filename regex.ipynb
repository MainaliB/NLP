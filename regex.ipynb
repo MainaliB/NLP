{
 "cells": [
  {
   "cell_type": "code",
   "execution_count": 1,
   "metadata": {},
   "outputs": [],
   "source": [
    "import re"
   ]
  },
  {
   "cell_type": "markdown",
   "metadata": {},
   "source": [
    "1. Write a function named is_vowel. It should accept a string as input and use a regular expression to determine if the passed string is a vowel. While not explicity mentioned in the lesson, you can treat the result of re.search as a boolean value that indicates whether or not the regular expression matches the given string."
   ]
  },
  {
   "cell_type": "code",
   "execution_count": 2,
   "metadata": {},
   "outputs": [],
   "source": [
    "def is_vowel(word):\n",
    "    regexp = r'^[aeiou]\\w*'\n",
    "    subject = word\n",
    "    if re.search(regexp, subject.lower()):\n",
    "        return True\n",
    "    else:\n",
    "        return False"
   ]
  },
  {
   "cell_type": "code",
   "execution_count": 3,
   "metadata": {},
   "outputs": [
    {
     "data": {
      "text/plain": [
       "True"
      ]
     },
     "execution_count": 3,
     "metadata": {},
     "output_type": "execute_result"
    }
   ],
   "source": [
    "is_vowel('apple')"
   ]
  },
  {
   "cell_type": "markdown",
   "metadata": {},
   "source": [
    "2. Write a function named is_valid_username that accepts a string as input. A valid username starts with a lowercase letter, and only consists of lowercase letters, numbers, or the _ character. It should also be no longer than 32 characters. The function should return either True or False depending on whether the passed string is a valid username."
   ]
  },
  {
   "cell_type": "code",
   "execution_count": 4,
   "metadata": {},
   "outputs": [],
   "source": [
    "def is_valid_username(username):\n",
    "    if len(username) <= 32:\n",
    "        regexp = r'^[a-z]\\w+[a-z]\\d*\\_?'\n",
    "        subject = username\n",
    "        if re.search(regexp,subject):\n",
    "            return True\n",
    "        else:\n",
    "            return False\n",
    "        \n",
    "        \n",
    "    else:\n",
    "        return False"
   ]
  },
  {
   "cell_type": "code",
   "execution_count": 5,
   "metadata": {},
   "outputs": [
    {
     "data": {
      "text/plain": [
       "True"
      ]
     },
     "execution_count": 5,
     "metadata": {},
     "output_type": "execute_result"
    }
   ],
   "source": [
    "is_valid_username('codeup123')"
   ]
  },
  {
   "cell_type": "markdown",
   "metadata": {},
   "source": [
    "3. Write a regular expression to capture phone numbers. It should match all of the following:\n",
    "\n",
    "\n",
    "(210) 867 5309\n",
    "\n",
    "+1 210.867.5309\n",
    "\n",
    "867-5309\n",
    "\n",
    "210-867-5309"
   ]
  },
  {
   "cell_type": "code",
   "execution_count": 80,
   "metadata": {},
   "outputs": [
    {
     "name": "stdout",
     "output_type": "stream",
     "text": [
      "<re.Match object; span=(0, 14), match='(210) 867 5309'>\n",
      "<re.Match object; span=(0, 15), match='+1 210.867.5309'>\n",
      "<re.Match object; span=(0, 8), match='867-5309'>\n",
      "<re.Match object; span=(0, 12), match='210-867-5309'>\n",
      "<re.Match object; span=(0, 18), match='210-458-6892335255'>\n"
     ]
    }
   ],
   "source": [
    "subject = ['(210) 867 5309','+1 210.867.5309','867-5309','210-867-5309', '210-458-6892335255']\n",
    "\n",
    "\n",
    "regexp = r'\\+?\\d?\\s?\\(?\\d*\\)?\\-?\\.?\\s?\\d+\\-*\\.?\\s?\\d+'\n",
    "\n",
    "for val in subject:\n",
    "    print(re.search(regexp, val))"
   ]
  },
  {
   "cell_type": "markdown",
   "metadata": {},
   "source": [
    "4. Use regular expressions to convert the dates below to the standardized year-month-day format.\n",
    "\n",
    "02/04/19\n",
    "\n",
    "02/05/19\n",
    "\n",
    "02/06/19\n",
    "\n",
    "02/07/19\n",
    "\n",
    "02/08/19\n",
    "\n",
    "02/09/19\n",
    "\n",
    "02/10/19"
   ]
  },
  {
   "cell_type": "code",
   "execution_count": 7,
   "metadata": {},
   "outputs": [
    {
     "name": "stdout",
     "output_type": "stream",
     "text": [
      "19-02-04\n",
      "19-02-05\n",
      "19-02-06\n",
      "19-02-07\n",
      "19-02-08\n",
      "19-02-09\n",
      "19-02-10\n"
     ]
    }
   ],
   "source": [
    "regexp = r'(\\d+)/(\\d+)/(\\d+)'\n",
    "replacement = r'\\3-\\1-\\2'\n",
    "subject = ['02/04/19', '02/05/19', '02/06/19', '02/07/19','02/08/19','02/09/19','02/10/19']\n",
    "for val in subject:\n",
    "    print(re.sub(regexp, replacement, val))"
   ]
  },
  {
   "cell_type": "markdown",
   "metadata": {},
   "source": [
    "5. Write a regex to extract the various parts of these logfile lines:"
   ]
  },
  {
   "cell_type": "code",
   "execution_count": 8,
   "metadata": {},
   "outputs": [
    {
     "data": {
      "text/plain": [
       "['\"python-requests/2.21.0\"', '\"python-requests/2.21.0\"']"
      ]
     },
     "execution_count": 8,
     "metadata": {},
     "output_type": "execute_result"
    }
   ],
   "source": [
    "log = '''GET /api/v1/sales?page=86 [16/Apr/2019:193452+0000] HTTP/1.1 {200} 510348 \"python-requests/2.21.0\" 97.105.19.58\n",
    "POST /users_accounts/file-upload [16/Apr/2019:193452+0000] HTTP/1.1 {201} 42 \"User-Agent: Mozilla/5.0 (X11; Fedora; Fedora; Linux x86_64) AppleWebKit/537.36 (KHTML, like Gecko) Chrome/73.0.3683.86 Safari/537.36\" 97.105.19.58\n",
    "GET /api/v1/items?page=3 [16/Apr/2019:193453+0000] HTTP/1.1 {429} 3561 \"python-requests/2.21.0\" 97.105.19.58'''\n",
    "\n",
    "\n",
    "# lets extract the time stamp\n",
    "regexp_time = r'\\d+/\\w+/\\d+\\:\\d+\\+\\d+'\n",
    "\n",
    "subject = log\n",
    "\n",
    "re.findall(regexp_time, subject)\n",
    "\n",
    "\n",
    "\n",
    "# lets extract the ip address\n",
    "regexp_ip = r'\\d+\\.\\d+\\.\\d+\\.\\d+'\n",
    "re.findall(regexp_ip, subject)\n",
    "\n",
    "\n",
    "\n",
    "# lets extract the requesting agent\n",
    "regexp_agent = r'\\\"\\w+-\\w+/\\d+\\.\\d+\\.\\d+\\\"'\n",
    "re.findall(regexp_agent, subject)"
   ]
  },
  {
   "cell_type": "markdown",
   "metadata": {},
   "source": [
    "6. You can find a list of words on your mac at /usr/share/dict/words. Use this file to answer the following questions:\n",
    "\n"
   ]
  },
  {
   "cell_type": "code",
   "execution_count": 102,
   "metadata": {},
   "outputs": [],
   "source": [
    "import pandas as pd\n",
    "\n",
    "\n",
    "words = pd.read_csv('/usr/share/dict/words')"
   ]
  },
  {
   "cell_type": "code",
   "execution_count": 103,
   "metadata": {},
   "outputs": [
    {
     "data": {
      "text/html": [
       "<div>\n",
       "<style scoped>\n",
       "    .dataframe tbody tr th:only-of-type {\n",
       "        vertical-align: middle;\n",
       "    }\n",
       "\n",
       "    .dataframe tbody tr th {\n",
       "        vertical-align: top;\n",
       "    }\n",
       "\n",
       "    .dataframe thead th {\n",
       "        text-align: right;\n",
       "    }\n",
       "</style>\n",
       "<table border=\"1\" class=\"dataframe\">\n",
       "  <thead>\n",
       "    <tr style=\"text-align: right;\">\n",
       "      <th></th>\n",
       "      <th>A</th>\n",
       "    </tr>\n",
       "  </thead>\n",
       "  <tbody>\n",
       "    <tr>\n",
       "      <th>0</th>\n",
       "      <td>a</td>\n",
       "    </tr>\n",
       "    <tr>\n",
       "      <th>1</th>\n",
       "      <td>aa</td>\n",
       "    </tr>\n",
       "    <tr>\n",
       "      <th>2</th>\n",
       "      <td>aal</td>\n",
       "    </tr>\n",
       "    <tr>\n",
       "      <th>3</th>\n",
       "      <td>aalii</td>\n",
       "    </tr>\n",
       "    <tr>\n",
       "      <th>4</th>\n",
       "      <td>aam</td>\n",
       "    </tr>\n",
       "  </tbody>\n",
       "</table>\n",
       "</div>"
      ],
      "text/plain": [
       "       A\n",
       "0      a\n",
       "1     aa\n",
       "2    aal\n",
       "3  aalii\n",
       "4    aam"
      ]
     },
     "execution_count": 103,
     "metadata": {},
     "output_type": "execute_result"
    }
   ],
   "source": [
    "words.head()"
   ]
  },
  {
   "cell_type": "code",
   "execution_count": 110,
   "metadata": {},
   "outputs": [
    {
     "data": {
      "text/plain": [
       "0     True\n",
       "1    False\n",
       "2     True\n",
       "3     True\n",
       "4     True\n",
       "Name: text, dtype: bool"
      ]
     },
     "execution_count": 110,
     "metadata": {},
     "output_type": "execute_result"
    }
   ],
   "source": [
    "# How many words have at least 3 vowels?\n",
    "regexp = r'[aeiou]'\n",
    "threeor_more = []\n",
    "df = pd.DataFrame({'text': ['baeiot', 'apple', 'icecream', 'mangoo', 'watermelon']})\n",
    "df.text.str.count(regexp) >=3\n",
    "                  \n",
    "# df['match'] = df.text.str.extract(regexp)\n",
    "                 \n",
    "                  \n",
    "# for val in subject:\n",
    "#     if len(val.str.extract(regexp)) > 3:\n",
    "#         threeor_more.append(val)"
   ]
  },
  {
   "cell_type": "code",
   "execution_count": 21,
   "metadata": {},
   "outputs": [],
   "source": [
    "# How many words have at least 3 vowels in a row?\n"
   ]
  },
  {
   "cell_type": "code",
   "execution_count": 22,
   "metadata": {},
   "outputs": [],
   "source": [
    "# How many words have at least 4 consonants in a row?\n"
   ]
  },
  {
   "cell_type": "code",
   "execution_count": 23,
   "metadata": {},
   "outputs": [],
   "source": [
    "# How many words start and end with the same letter?\n"
   ]
  },
  {
   "cell_type": "code",
   "execution_count": 24,
   "metadata": {},
   "outputs": [],
   "source": [
    "# How many words start and end with a vowel?\n"
   ]
  },
  {
   "cell_type": "code",
   "execution_count": 25,
   "metadata": {},
   "outputs": [],
   "source": [
    "# How many words contain the same letter 3 times in a row?\n"
   ]
  },
  {
   "cell_type": "code",
   "execution_count": 26,
   "metadata": {},
   "outputs": [],
   "source": [
    "# What other interesting patterns in words can you find?"
   ]
  },
  {
   "cell_type": "code",
   "execution_count": null,
   "metadata": {},
   "outputs": [],
   "source": []
  }
 ],
 "metadata": {
  "kernelspec": {
   "display_name": "Python 3",
   "language": "python",
   "name": "python3"
  },
  "language_info": {
   "codemirror_mode": {
    "name": "ipython",
    "version": 3
   },
   "file_extension": ".py",
   "mimetype": "text/x-python",
   "name": "python",
   "nbconvert_exporter": "python",
   "pygments_lexer": "ipython3",
   "version": "3.7.6"
  }
 },
 "nbformat": 4,
 "nbformat_minor": 4
}
