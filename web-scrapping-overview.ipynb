{
 "cells": [
  {
   "cell_type": "code",
   "execution_count": 3,
   "metadata": {},
   "outputs": [],
   "source": [
    "\n",
    "\n",
    "from requests import get\n",
    "import pandas as pd\n",
    "from bs4 import BeautifulSoup"
   ]
  },
  {
   "cell_type": "code",
   "execution_count": 4,
   "metadata": {},
   "outputs": [],
   "source": [
    "# the webpage we will be scrapping is\n",
    "\n",
    "url = 'https://site-to-scrape.glitch.me/'\n",
    "\n",
    "# setting the user agent\n",
    "headers = {'User-Agent':'Codeup Data Science Student'}\n",
    "\n",
    "# sending request\n",
    "response = get(url, headers = headers)"
   ]
  },
  {
   "cell_type": "code",
   "execution_count": 5,
   "metadata": {},
   "outputs": [
    {
     "data": {
      "text/plain": [
       "<Response [200]>"
      ]
     },
     "execution_count": 5,
     "metadata": {},
     "output_type": "execute_result"
    }
   ],
   "source": [
    "# lets check the status of our request\n",
    "response"
   ]
  },
  {
   "cell_type": "code",
   "execution_count": 7,
   "metadata": {},
   "outputs": [
    {
     "data": {
      "text/plain": [
       "'<!DOCTYPE html>\\n<html lang=\"en\">\\n  <head>\\n    <title>Site to Scrape!</title>\\n    <meta charset=\"utf-8\">\\n    <meta http-equiv=\"X-UA-Compatible\" content=\"IE=edge\">\\n    <meta name=\"viewport\" content=\"width=device-width, initial-scale=1\">\\n    \\n    <!-- import the webpage\\'s stylesheet -->\\n    <link rel=\"stylesheet\" href=\"/style.css\">\\n    \\n    <!-- import the webpage\\'s javascript file -->\\n    <script src=\"/script.js\" defer></script>\\n  </head>  \\n  <body>\\n    <header>\\n      <h1>This is the header!</h1>\\n      <hr>\\n    </header>\\n    \\n    <main>\\n      <div>\\n        <h1 class=\"first\">\\n        This is the main\\n        </h1>\\n        <h2>\\n          This is an h2 of main\\n        </h2>\\n        <h3>\\n          H3 inside of first div inside of main\\n        </h3>\\n      </div>\\n      <div>\\n        <h3 class=\"first\">\\n          H3 inside of second div inside of main.\\n        </h3>\\n        <p>\\n          Here\\'s some text content for us to scrape! ð\\x9f\\x91½\\n        </p>\\n        <p>\\n          Here\\'s another paragraph of content! â\\x98\\xa0ï¸\\x8f\\n        </p>\\n        <a href=\"https://ryanorsinger.com\">Click here to visit my homepage</a>       \\n      </div>\\n    </main>\\n\\n    <footer>\\n      <h1>This is the footer</h1>\\n      <img src=\"https://traffic-analytics.glitch.me/counter.png?fallback=MY_WEBSITE&color=black\" alt=\"\" style=\"vertical-align: bottom;\" aria-hidden=\"true\">\\n    </footer>\\n\\n  </body>\\n</html>\\n'"
      ]
     },
     "execution_count": 7,
     "metadata": {},
     "output_type": "execute_result"
    }
   ],
   "source": [
    "# lets get the textual version of the response to our request\n",
    "response.text"
   ]
  },
  {
   "cell_type": "markdown",
   "metadata": {},
   "source": [
    "#### Working with files in Python Basics"
   ]
  },
  {
   "cell_type": "code",
   "execution_count": 12,
   "metadata": {},
   "outputs": [],
   "source": [
    "\n",
    " ## if we open it like this, we have to make sure we close the file that we opened\n",
    "f = open('article.txt', 'r')\n"
   ]
  },
  {
   "cell_type": "code",
   "execution_count": 16,
   "metadata": {},
   "outputs": [],
   "source": [
    "# closing the file, this is ex\n",
    "f.close()"
   ]
  },
  {
   "cell_type": "code",
   "execution_count": 31,
   "metadata": {},
   "outputs": [
    {
     "name": "stdout",
     "output_type": "stream",
     "text": [
      "The rumors are true! The time has arrived. Codeup has officially opened applications to our new Data\n",
      " Science career accelerator, with only 25 seats available! This immersive program is one of a kind i\n",
      "n San Antonio, and will help you land a job in Glassdoor’s #1 Best Job in America.\n",
      "Data Science is a\n",
      " method of providing actionable intelligence from data. The data revolution has hit San Antonio, res\n"
     ]
    }
   ],
   "source": [
    "# so, the better method of opening file is context manager\n",
    "# r means read mode\n",
    "\n",
    "with open('article.txt', 'r') as f:\n",
    "    \n",
    "#     f_contents = f.read()\n",
    "#     print(f_contents)\n",
    "    # easy for small file, but what if big files?, we can do something like this:\n",
    "    \n",
    "    # this will read each line\n",
    "#     f_contents = f.readline()\n",
    "#     print(f_contents)\n",
    "    \n",
    "#     f_contents = f.readline()\n",
    "#     print(f_contents)\n",
    "    \n",
    "#     f_contents = f.readline()\n",
    "#     print(f_contents)\n",
    "    \n",
    "#     f_contents = f.readline()\n",
    "#     print(f_contents)\n",
    "    \n",
    "    \n",
    "#     for line in f:\n",
    "#         print(line, end = '')\n",
    "\n",
    "    # here the 100 means the first 100 letters, subsequent 100 will continue from where it \n",
    "    # was left off before. This allows you to read large files little at a time\n",
    "    f_contents = f.read(100)\n",
    "    print(f_contents)\n",
    "    f_contents = f.read(100)\n",
    "    print(f_contents)\n",
    "    f_contents = f.read(100)\n",
    "    print(f_contents)\n",
    "    f_contents = f.read(100)\n",
    "    print(f_contents)"
   ]
  },
  {
   "cell_type": "code",
   "execution_count": null,
   "metadata": {},
   "outputs": [],
   "source": []
  },
  {
   "cell_type": "code",
   "execution_count": null,
   "metadata": {},
   "outputs": [],
   "source": []
  }
 ],
 "metadata": {
  "kernelspec": {
   "display_name": "Python 3",
   "language": "python",
   "name": "python3"
  },
  "language_info": {
   "codemirror_mode": {
    "name": "ipython",
    "version": 3
   },
   "file_extension": ".py",
   "mimetype": "text/x-python",
   "name": "python",
   "nbconvert_exporter": "python",
   "pygments_lexer": "ipython3",
   "version": "3.7.6"
  }
 },
 "nbformat": 4,
 "nbformat_minor": 4
}
